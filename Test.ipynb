{
 "cells": [
  {
   "cell_type": "code",
   "execution_count": 27,
   "outputs": [
    {
     "name": "stdout",
     "output_type": "stream",
     "text": [
      "3.10.1\n"
     ]
    }
   ],
   "source": [
    "import speech_recognition as sr\n",
    "from transformers import BertTokenizer, BertForSequenceClassification\n",
    "import torch\n",
    "\n",
    "print(sr.__version__)"
   ],
   "metadata": {
    "collapsed": false,
    "ExecuteTime": {
     "end_time": "2024-02-20T14:10:25.720843100Z",
     "start_time": "2024-02-20T14:10:25.717217800Z"
    }
   }
  },
  {
   "cell_type": "code",
   "execution_count": 28,
   "outputs": [],
   "source": [
    "def speech_to_text(audio_file):\n",
    "    recognizer = sr.Recognizer()\n",
    "    with sr.AudioFile(audio_file) as source:\n",
    "        audio_data = recognizer.record(source)  # Record the audio file\n",
    "\n",
    "    try:\n",
    "        text = recognizer.recognize_google(audio_data)  # Use the Google Web Speech API for recognition\n",
    "        return text\n",
    "    except sr.UnknownValueError:\n",
    "        return \"Speech recognition could not understand the audio\"\n",
    "    except sr.RequestError:\n",
    "        return \"Speech recognition service is unavailable\"\n"
   ],
   "metadata": {
    "collapsed": false,
    "ExecuteTime": {
     "end_time": "2024-02-20T14:10:27.470868300Z",
     "start_time": "2024-02-20T14:10:27.466663200Z"
    }
   }
  },
  {
   "cell_type": "code",
   "execution_count": 29,
   "outputs": [
    {
     "name": "stdout",
     "output_type": "stream",
     "text": [
      "Transcribed Text: sometimes the only thing more difficult than running a business is finding the right words to Market it lucky for you our new AI content generator doesn't sweat words just tell it what you want to create enter a few details click generate content and in just seconds it'll give you options to build from or leave as is writer's block not anymore with artificial intelligence doing the wordsmithing for you you can craft the perfect message in the blink of an AI\n"
     ]
    }
   ],
   "source": [
    "result = speech_to_text(\"data/test.wav\")\n",
    "print(\"Transcribed Text:\", result)"
   ],
   "metadata": {
    "collapsed": false,
    "ExecuteTime": {
     "end_time": "2024-02-20T14:10:55.160659100Z",
     "start_time": "2024-02-20T14:10:28.842904100Z"
    }
   }
  },
  {
   "cell_type": "code",
   "execution_count": 30,
   "outputs": [],
   "source": [
    "def analyze_language_errors(text):\n",
    "    # Initialize BERT model for language analysis\n",
    "    tokenizer = BertTokenizer.from_pretrained(\"bert-base-uncased\")\n",
    "    model = BertForSequenceClassification.from_pretrained(\"bert-base-uncased\")\n",
    "\n",
    "    # Tokenize and encode the text\n",
    "    inputs = tokenizer(text, return_tensors=\"pt\")\n",
    "\n",
    "    # Perform inference with BERT\n",
    "    outputs = model(**inputs)\n",
    "\n",
    "    # Get the predicted class (0 for correct, 1 for incorrect)\n",
    "    predicted_class = torch.argmax(outputs.logits, dim=1).item()\n",
    "\n",
    "    return \"Correct\" if predicted_class == 0 else \"Incorrect\""
   ],
   "metadata": {
    "collapsed": false,
    "ExecuteTime": {
     "end_time": "2024-02-20T14:11:10.000697Z",
     "start_time": "2024-02-20T14:11:09.992596300Z"
    }
   }
  },
  {
   "cell_type": "code",
   "execution_count": null,
   "outputs": [
    {
     "name": "stderr",
     "output_type": "stream",
     "text": [
      "tokenizer_config.json: 100%|██████████| 48.0/48.0 [00:00<00:00, 47.9kB/s]\n",
      "vocab.txt: 100%|██████████| 232k/232k [00:03<00:00, 65.6kB/s]\n",
      "tokenizer.json: 100%|██████████| 466k/466k [00:02<00:00, 166kB/s]\n",
      "config.json: 100%|██████████| 570/570 [00:00<?, ?B/s] \n",
      "model.safetensors:  90%|█████████ | 398M/440M [02:44<00:17, 2.43MB/s] "
     ]
    }
   ],
   "source": [
    " language_analysis_result = analyze_language_errors(result)\n",
    "print(\"Language Analysis Result:\", language_analysis_result)"
   ],
   "metadata": {
    "collapsed": false,
    "is_executing": true,
    "ExecuteTime": {
     "start_time": "2024-02-20T14:11:26.169214Z"
    }
   }
  }
 ],
 "metadata": {
  "kernelspec": {
   "display_name": "Python 3",
   "language": "python",
   "name": "python3"
  },
  "language_info": {
   "codemirror_mode": {
    "name": "ipython",
    "version": 2
   },
   "file_extension": ".py",
   "mimetype": "text/x-python",
   "name": "python",
   "nbconvert_exporter": "python",
   "pygments_lexer": "ipython2",
   "version": "2.7.6"
  }
 },
 "nbformat": 4,
 "nbformat_minor": 0
}

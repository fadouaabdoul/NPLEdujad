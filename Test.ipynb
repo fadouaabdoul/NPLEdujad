{
 "cells": [
  {
   "cell_type": "code",
   "execution_count": 1,
   "outputs": [
    {
     "name": "stderr",
     "output_type": "stream",
     "text": [
      "C:\\Users\\Administrator\\AppData\\Local\\Programs\\Python\\Python311\\Lib\\site-packages\\tqdm\\auto.py:21: TqdmWarning: IProgress not found. Please update jupyter and ipywidgets. See https://ipywidgets.readthedocs.io/en/stable/user_install.html\n",
      "  from .autonotebook import tqdm as notebook_tqdm\n"
     ]
    }
   ],
   "source": [
    "import paddle\n",
    "from paddle import inference\n",
    "from transformers import BertTokenizer, BertForSequenceClassification\n",
    "import torch"
   ],
   "metadata": {
    "collapsed": false,
    "ExecuteTime": {
     "end_time": "2024-02-20T11:47:50.875919900Z",
     "start_time": "2024-02-20T11:47:46.532839900Z"
    }
   }
  },
  {
   "cell_type": "code",
   "execution_count": 11,
   "outputs": [],
   "source": [
    "def speech_to_text(audio_file):\n",
    "    # Initialize PaddleSpeech model\n",
    "    config = inference.Config(\n",
    "        r\"C:/Users/hp/OneDrive/Bureau/DeepSpeech/PaddleSpeech\")  # Replace with the path to your PaddleSpeech model directory\n",
    "    predictor = inference.create_predictor(config)\n",
    "\n",
    "    # Process audio file\n",
    "    input_wav_data = paddle.to_tensor([paddle.load_wav_file(audio_file)], dtype=\"float32\")\n",
    "\n",
    "    # Run inference\n",
    "    input_tensor = predictor.get_input(0)\n",
    "    input_tensor.set_data(input_wav_data)\n",
    "\n",
    "    predictor.run()\n",
    "\n",
    "    # Get the result\n",
    "    output_tensor = predictor.get_output(0)\n",
    "    result = output_tensor.numpy()[0]\n",
    "\n",
    "    return result"
   ],
   "metadata": {
    "collapsed": false,
    "ExecuteTime": {
     "end_time": "2024-02-20T12:45:56.770734100Z",
     "start_time": "2024-02-20T12:45:56.751839500Z"
    }
   }
  },
  {
   "cell_type": "code",
   "execution_count": 15,
   "outputs": [],
   "source": [
    "def analyze_language_errors(text):\n",
    "    # Initialize BERT model for language analysis\n",
    "    tokenizer = BertTokenizer.from_pretrained(\"bert-base-uncased\")\n",
    "    model = BertForSequenceClassification.from_pretrained(\"bert-base-uncased\")\n",
    "\n",
    "    # Tokenize and encode the text\n",
    "    inputs = tokenizer(text, return_tensors=\"pt\")\n",
    "\n",
    "    # Perform inference with BERT\n",
    "    outputs = model(**inputs)\n",
    "\n",
    "    # Get the predicted class (0 for correct, 1 for incorrect)\n",
    "    predicted_class = torch.argmax(outputs.logits, dim=1).item()\n",
    "\n",
    "    return \"Correct\" if predicted_class == 0 else \"Incorrect\"\n",
    "\n"
   ],
   "metadata": {
    "collapsed": false,
    "ExecuteTime": {
     "end_time": "2024-02-20T12:46:47.603179600Z",
     "start_time": "2024-02-20T12:46:47.593704400Z"
    }
   }
  },
  {
   "cell_type": "code",
   "execution_count": 16,
   "outputs": [
    {
     "ename": "RuntimeError",
     "evalue": "(NotFound) Cannot open file C:/Users/hp/OneDrive/Bureau/DeepSpeech/PaddleSpeech/__model__, please confirm whether the file is normal.\n  [Hint: Expected static_cast<bool>(fin.is_open()) == true, but received static_cast<bool>(fin.is_open()):0 != true:1.] (at ..\\paddle\\fluid\\inference\\api\\analysis_predictor.cc:2578)\n",
     "output_type": "error",
     "traceback": [
      "\u001B[1;31m---------------------------------------------------------------------------\u001B[0m",
      "\u001B[1;31mRuntimeError\u001B[0m                              Traceback (most recent call last)",
      "Cell \u001B[1;32mIn[16], line 4\u001B[0m\n\u001B[0;32m      1\u001B[0m audio_file \u001B[38;5;241m=\u001B[39m \u001B[38;5;124m\"\u001B[39m\u001B[38;5;124mdata/test.wav\u001B[39m\u001B[38;5;124m\"\u001B[39m\n\u001B[0;32m      3\u001B[0m \u001B[38;5;66;03m# Perform speech-to-text\u001B[39;00m\n\u001B[1;32m----> 4\u001B[0m transcribed_text \u001B[38;5;241m=\u001B[39m \u001B[43mspeech_to_text\u001B[49m\u001B[43m(\u001B[49m\u001B[43maudio_file\u001B[49m\u001B[43m)\u001B[49m\n\u001B[0;32m      5\u001B[0m \u001B[38;5;28mprint\u001B[39m(\u001B[38;5;124m\"\u001B[39m\u001B[38;5;124mTranscribed Text:\u001B[39m\u001B[38;5;124m\"\u001B[39m, transcribed_text)\n",
      "Cell \u001B[1;32mIn[11], line 5\u001B[0m, in \u001B[0;36mspeech_to_text\u001B[1;34m(audio_file)\u001B[0m\n\u001B[0;32m      1\u001B[0m \u001B[38;5;28;01mdef\u001B[39;00m \u001B[38;5;21mspeech_to_text\u001B[39m(audio_file):\n\u001B[0;32m      2\u001B[0m     \u001B[38;5;66;03m# Initialize PaddleSpeech model\u001B[39;00m\n\u001B[0;32m      3\u001B[0m     config \u001B[38;5;241m=\u001B[39m inference\u001B[38;5;241m.\u001B[39mConfig(\n\u001B[0;32m      4\u001B[0m         \u001B[38;5;124mr\u001B[39m\u001B[38;5;124m\"\u001B[39m\u001B[38;5;124mC:/Users/hp/OneDrive/Bureau/DeepSpeech/PaddleSpeech\u001B[39m\u001B[38;5;124m\"\u001B[39m)  \u001B[38;5;66;03m# Replace with the path to your PaddleSpeech model directory\u001B[39;00m\n\u001B[1;32m----> 5\u001B[0m     predictor \u001B[38;5;241m=\u001B[39m \u001B[43minference\u001B[49m\u001B[38;5;241;43m.\u001B[39;49m\u001B[43mcreate_predictor\u001B[49m\u001B[43m(\u001B[49m\u001B[43mconfig\u001B[49m\u001B[43m)\u001B[49m\n\u001B[0;32m      7\u001B[0m     \u001B[38;5;66;03m# Process audio file\u001B[39;00m\n\u001B[0;32m      8\u001B[0m     input_wav_data \u001B[38;5;241m=\u001B[39m paddle\u001B[38;5;241m.\u001B[39mto_tensor([paddle\u001B[38;5;241m.\u001B[39mload_wav_file(audio_file)], dtype\u001B[38;5;241m=\u001B[39m\u001B[38;5;124m\"\u001B[39m\u001B[38;5;124mfloat32\u001B[39m\u001B[38;5;124m\"\u001B[39m)\n",
      "\u001B[1;31mRuntimeError\u001B[0m: (NotFound) Cannot open file C:/Users/hp/OneDrive/Bureau/DeepSpeech/PaddleSpeech/__model__, please confirm whether the file is normal.\n  [Hint: Expected static_cast<bool>(fin.is_open()) == true, but received static_cast<bool>(fin.is_open()):0 != true:1.] (at ..\\paddle\\fluid\\inference\\api\\analysis_predictor.cc:2578)\n"
     ]
    }
   ],
   "source": [
    "audio_file = \"data/test.wav\"\n",
    "\n",
    "# Perform speech-to-text\n",
    "transcribed_text = speech_to_text(audio_file)\n",
    "print(\"Transcribed Text:\", transcribed_text)"
   ],
   "metadata": {
    "collapsed": false,
    "ExecuteTime": {
     "end_time": "2024-02-20T12:46:49.573202700Z",
     "start_time": "2024-02-20T12:46:49.543532500Z"
    }
   }
  },
  {
   "cell_type": "code",
   "execution_count": 17,
   "outputs": [
    {
     "ename": "NameError",
     "evalue": "name 'transcribed_text' is not defined",
     "output_type": "error",
     "traceback": [
      "\u001B[1;31m---------------------------------------------------------------------------\u001B[0m",
      "\u001B[1;31mNameError\u001B[0m                                 Traceback (most recent call last)",
      "Cell \u001B[1;32mIn[17], line 1\u001B[0m\n\u001B[1;32m----> 1\u001B[0m language_analysis_result \u001B[38;5;241m=\u001B[39m analyze_language_errors(\u001B[43mtranscribed_text\u001B[49m)\n\u001B[0;32m      2\u001B[0m \u001B[38;5;28mprint\u001B[39m(\u001B[38;5;124m\"\u001B[39m\u001B[38;5;124mLanguage Analysis Result:\u001B[39m\u001B[38;5;124m\"\u001B[39m, language_analysis_result)\n",
      "\u001B[1;31mNameError\u001B[0m: name 'transcribed_text' is not defined"
     ]
    }
   ],
   "source": [
    "language_analysis_result = analyze_language_errors(transcribed_text)\n",
    "print(\"Language Analysis Result:\", language_analysis_result)"
   ],
   "metadata": {
    "collapsed": false,
    "ExecuteTime": {
     "end_time": "2024-02-20T12:46:52.165197600Z",
     "start_time": "2024-02-20T12:46:52.143622100Z"
    }
   }
  }
 ],
 "metadata": {
  "kernelspec": {
   "display_name": "Python 3",
   "language": "python",
   "name": "python3"
  },
  "language_info": {
   "codemirror_mode": {
    "name": "ipython",
    "version": 2
   },
   "file_extension": ".py",
   "mimetype": "text/x-python",
   "name": "python",
   "nbconvert_exporter": "python",
   "pygments_lexer": "ipython2",
   "version": "2.7.6"
  }
 },
 "nbformat": 4,
 "nbformat_minor": 0
}
